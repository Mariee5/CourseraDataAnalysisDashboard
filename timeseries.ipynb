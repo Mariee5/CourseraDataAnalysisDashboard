{
 "cells": [
  {
   "cell_type": "markdown",
   "id": "21ca1e49",
   "metadata": {},
   "source": [
    "# Time Series"
   ]
  },
  {
   "cell_type": "markdown",
   "id": "66cf1c8e",
   "metadata": {},
   "source": [
    "Time series data is basically time interval type of data ie, t, t+1, t+2 ........"
   ]
  },
  {
   "cell_type": "markdown",
   "id": "1bfa90f4",
   "metadata": {},
   "source": [
    "The current data that we are working with is a seasonal data with 123 rows and 6 columns, showing mean values of the temparature"
   ]
  },
  {
   "cell_type": "markdown",
   "id": "9c3a2449",
   "metadata": {},
   "source": [
    "Data types of Time Series\n",
    "Stationary -  Mean and Variance should be constant with respect to time. basically similar values , and gives almost a straight line type\n",
    "Non- Stationary - mean and variance changes with respect to time. Hence any data in time series is always going to be one of those. \n",
    "Hypothesis Testing is an one way to testng the staionaruty"
   ]
  },
  {
   "cell_type": "code",
   "execution_count": 1,
   "id": "1586a466",
   "metadata": {},
   "outputs": [],
   "source": [
    "import pandas as pd"
   ]
  },
  {
   "cell_type": "code",
   "execution_count": 2,
   "id": "75fdf24e",
   "metadata": {},
   "outputs": [
    {
     "name": "stdout",
     "output_type": "stream",
     "text": [
      "(123, 6)\n"
     ]
    }
   ],
   "source": [
    "df = pd.read_csv('TEMP_ANNUAL_SEASONAL_MEAN.csv')\n",
    "print(df.shape)"
   ]
  },
  {
   "cell_type": "code",
   "execution_count": 7,
   "id": "e06bf0b4",
   "metadata": {},
   "outputs": [
    {
     "name": "stdout",
     "output_type": "stream",
     "text": [
      "       YEAR  ANNUAL  JAN-FEB  MAR-MAY  JUN-SEP  OCT-DEC\n",
      "0    1901.0   25.42    20.11    27.64    28.16     23.1\n",
      "1    1902.0   25.42    20.88    27.96    27.98    22.51\n",
      "2    1903.0   25.01    19.99    27.02       28    22.33\n",
      "3    1904.0   24.93    19.76    27.23    27.57    22.56\n",
      "4    1905.0   24.84    18.36    26.38     28.2    23.13\n",
      "..      ...     ...      ...      ...      ...      ...\n",
      "118  2019.0   25.86    20.71       28     28.6    23.49\n",
      "119  2020.0   25.78    20.79    27.58    28.45    23.75\n",
      "120  2021.0   25.93    21.43    27.97    28.36    23.66\n",
      "121     NaN     NaN      NaN      NaN      NaN      NaN\n",
      "122     NaN  ANNUAL  JAN-FEB  MAR-MAY  JUN-SEP  OCT-DEC\n",
      "\n",
      "[123 rows x 6 columns]\n",
      "<class 'pandas.core.frame.DataFrame'>\n",
      "RangeIndex: 123 entries, 0 to 122\n",
      "Data columns (total 6 columns):\n",
      " #   Column   Non-Null Count  Dtype  \n",
      "---  ------   --------------  -----  \n",
      " 0   YEAR     121 non-null    float64\n",
      " 1   ANNUAL   122 non-null    object \n",
      " 2   JAN-FEB  122 non-null    object \n",
      " 3   MAR-MAY  122 non-null    object \n",
      " 4   JUN-SEP  122 non-null    object \n",
      " 5   OCT-DEC  122 non-null    object \n",
      "dtypes: float64(1), object(5)\n",
      "memory usage: 5.9+ KB\n",
      "None\n"
     ]
    }
   ],
   "source": [
    "print(df)\n",
    "print(df.info())"
   ]
  },
  {
   "cell_type": "code",
   "execution_count": null,
   "id": "cd4d8e5b",
   "metadata": {},
   "outputs": [],
   "source": []
  }
 ],
 "metadata": {
  "kernelspec": {
   "display_name": "Python 3",
   "language": "python",
   "name": "python3"
  },
  "language_info": {
   "codemirror_mode": {
    "name": "ipython",
    "version": 3
   },
   "file_extension": ".py",
   "mimetype": "text/x-python",
   "name": "python",
   "nbconvert_exporter": "python",
   "pygments_lexer": "ipython3",
   "version": "3.11.4"
  }
 },
 "nbformat": 4,
 "nbformat_minor": 5
}
